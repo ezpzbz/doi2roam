{
 "cells": [
  {
   "cell_type": "code",
   "execution_count": 6,
   "metadata": {},
   "outputs": [],
   "source": [
    "import requests\n",
    "import pandas as pd"
   ]
  },
  {
   "cell_type": "code",
   "execution_count": 7,
   "metadata": {},
   "outputs": [
    {
     "data": {
      "text/html": [
       "<div>\n",
       "<style scoped>\n",
       "    .dataframe tbody tr th:only-of-type {\n",
       "        vertical-align: middle;\n",
       "    }\n",
       "\n",
       "    .dataframe tbody tr th {\n",
       "        vertical-align: top;\n",
       "    }\n",
       "\n",
       "    .dataframe thead th {\n",
       "        text-align: right;\n",
       "    }\n",
       "</style>\n",
       "<table border=\"1\" class=\"dataframe\">\n",
       "  <thead>\n",
       "    <tr style=\"text-align: right;\">\n",
       "      <th></th>\n",
       "      <th>long_name</th>\n",
       "      <th>short_name</th>\n",
       "    </tr>\n",
       "  </thead>\n",
       "  <tbody>\n",
       "    <tr>\n",
       "      <th>0</th>\n",
       "      <td>ACS Applied Materials &amp; Interfaces</td>\n",
       "      <td>ACS Appl. Mater. Interfaces</td>\n",
       "    </tr>\n",
       "    <tr>\n",
       "      <th>1</th>\n",
       "      <td>ACS Applied Nano Materials</td>\n",
       "      <td>ACS Appl. Nano Mater.</td>\n",
       "    </tr>\n",
       "    <tr>\n",
       "      <th>2</th>\n",
       "      <td>ACS Biomaterials Science &amp; Engineering</td>\n",
       "      <td>ACS Biomater. Sci. Eng.</td>\n",
       "    </tr>\n",
       "    <tr>\n",
       "      <th>3</th>\n",
       "      <td>ACS Catalysis</td>\n",
       "      <td>ACS Catal.</td>\n",
       "    </tr>\n",
       "    <tr>\n",
       "      <th>4</th>\n",
       "      <td>ACS Central Science</td>\n",
       "      <td>ACS Cent. Sci.</td>\n",
       "    </tr>\n",
       "  </tbody>\n",
       "</table>\n",
       "</div>"
      ],
      "text/plain": [
       "                                long_name                   short_name\n",
       "0      ACS Applied Materials & Interfaces  ACS Appl. Mater. Interfaces\n",
       "1              ACS Applied Nano Materials        ACS Appl. Nano Mater.\n",
       "2  ACS Biomaterials Science & Engineering      ACS Biomater. Sci. Eng.\n",
       "3                           ACS Catalysis                   ACS Catal.\n",
       "4                     ACS Central Science               ACS Cent. Sci."
      ]
     },
     "execution_count": 7,
     "metadata": {},
     "output_type": "execute_result"
    }
   ],
   "source": [
    "df = pd.read_csv('./journal_abbreviations_acs.csv',delimiter=';',header=None)\n",
    "df.rename(columns={0: \"long_name\", 1: \"short_name\"},inplace=True)\n",
    "df.head()"
   ]
  },
  {
   "cell_type": "code",
   "execution_count": 8,
   "metadata": {},
   "outputs": [],
   "source": [
    "# doi = '10.1021/acsami.8b15684'\n",
    "# doi = '10.1021/acsami.8b04600'\n",
    "doi = '10.1016/j.jpcs.2020.109840'"
   ]
  },
  {
   "cell_type": "code",
   "execution_count": 9,
   "metadata": {},
   "outputs": [],
   "source": [
    "bare_url = \"http://api.crossref.org/\""
   ]
  },
  {
   "cell_type": "code",
   "execution_count": 10,
   "metadata": {},
   "outputs": [],
   "source": [
    "def get_json(doi):\n",
    "    \"\"\"\n",
    "    Parameters\n",
    "    ----------\n",
    "        doi: str\n",
    "    Returns\n",
    "    -------\n",
    "        found: bool\n",
    "        item: dict\n",
    "            Response from crossref\n",
    "    \"\"\"\n",
    "\n",
    "    url = \"{}works/{}\"\n",
    "    url = url.format(bare_url, doi)\n",
    "    r = requests.get(url)\n",
    "    found = False if r.status_code != 200 else True\n",
    "    item = r.json()\n",
    "\n",
    "    return found, item\n"
   ]
  },
  {
   "cell_type": "code",
   "execution_count": 26,
   "metadata": {},
   "outputs": [],
   "source": [
    "found, bib = get_bib(doi)"
   ]
  },
  {
   "cell_type": "code",
   "execution_count": 32,
   "metadata": {},
   "outputs": [
    {
     "data": {
      "text/plain": [
       "\"@article{Monz_n_Gonz_lez_2021,\\n\\tdoi = {10.1016/j.jpcs.2020.109840},\\n\\turl = {https://doi.org/10.1016%2Fj.jpcs.2020.109840},\\n\\tyear = 2021,\\n\\tmonth = {mar},\\n\\tpublisher = {Elsevier {BV}},\\n\\tvolume = {150},\\n\\tpages = {109840},\\n\\tauthor = {C{\\\\'{e}}sar R. Monz{\\\\'{o}}n-Gonz{\\\\'{a}}lez and Mar{\\\\'{\\\\i}}a Elena S{\\\\'{a}}nchez-Vergara and Wilmer E. Vallejo Narv{\\\\'{a}}ez and Tom{\\\\'{a}}s Rocha-Rinza and Marcos Hern{\\\\'{a}}ndez and Elizabeth G{\\\\'{o}}mez and Omar Jim{\\\\'{e}}nez-Sandoval and Cecilio {\\\\'{A}}lvarez-Toledano},\\n\\ttitle = {Synthesis and characterization of organotin({IV}) semiconductors and their applications in optoelectronics},\\n\\tjournal = {Journal of Physics and Chemistry of Solids}\\n}\""
      ]
     },
     "execution_count": 32,
     "metadata": {},
     "output_type": "execute_result"
    }
   ],
   "source": [
    "bib"
   ]
  },
  {
   "cell_type": "code",
   "execution_count": 11,
   "metadata": {},
   "outputs": [],
   "source": [
    "found, js = get_json(doi)"
   ]
  },
  {
   "cell_type": "code",
   "execution_count": 46,
   "metadata": {},
   "outputs": [],
   "source": [
    "def synthesize_md_string(json):\n",
    "#     title\n",
    "    t = json['message']['title'][0]\n",
    "    title = f'- {t}\\n'\n",
    "#     Abstract\n",
    "    if 'abstract' in json['message'].keys():\n",
    "        abst = json['message']['abstract'][0]\n",
    "        abstract = f'- Abstract:\\n\\t- {abst}'\n",
    "    else:\n",
    "        abstract = f'- Abstract:\\n\\t- \\n'\n",
    "    \n",
    "#     References - Authors\n",
    "    ref_base = '- Reference:\\n'\n",
    "    auth_base = '\\t- Authors:\\n'\n",
    "    \n",
    "    author_list = json['message']['author']\n",
    "    a_list = []\n",
    "    for index,a in enumerate(author_list):\n",
    "        if index == 0:\n",
    "            filename_author = a['family']\n",
    "        given = a['given']\n",
    "        family = a['family']\n",
    "        item = f'[[{given} {family}]]'\n",
    "        auth_base += '\\t\\t- '+item +'\\n'\n",
    "\n",
    "    ref = ref_base + auth_base \n",
    "#     Reference - Journal\n",
    "    journal = json['message']['container-title']\n",
    "    abbr = df[df['long_name'] == journal[0]]['short_name'].values[0]\n",
    "    filename_journal = abbr.replace(' ','').replace('.','')\n",
    "\n",
    "    journal = f'\\t- Journal:\\n\\t\\t- [[{journal[0]}]] [[{abbr}]]\\n'\n",
    "#     Url\n",
    "    if 'url' in js['message'].keys():\n",
    "        u = json['message']['url']\n",
    "    elif 'URL' in js['message'].keys():\n",
    "        u = json['message']['URL']\n",
    "    url = f'\\t- URL:\\n\\t\\t- {u}\\n'\n",
    "    \n",
    "    empty_fields = '- Notes:\\n- Summary:\\n- Concepts:\\n- Keywords:\\n'\n",
    "    \n",
    "    filename_year = json['message']['created']['date-parts'][0][0]\n",
    "    \n",
    "    filename = f'{filename_author}EtAl_{filename_journal}{filename_year}'\n",
    "    \n",
    "    entry = title + abstract + ref + journal + url + empty_fields\n",
    "    \n",
    "    print(filename)\n",
    "    print(entry)\n",
    "    \n",
    "    return filename, entry\n",
    "    "
   ]
  },
  {
   "cell_type": "code",
   "execution_count": 47,
   "metadata": {},
   "outputs": [
    {
     "name": "stdout",
     "output_type": "stream",
     "text": [
      "Monzón-GonzálezEtAl_JPhysChemSolids2020\n",
      "- Synthesis and characterization of organotin(IV) semiconductors and their applications in optoelectronics\n",
      "- Abstract:\n",
      "\t- \n",
      "- Reference:\n",
      "\t- Authors:\n",
      "\t\t- [[César R. Monzón-González]]\n",
      "\t\t- [[María Elena Sánchez-Vergara]]\n",
      "\t\t- [[Wilmer E. Vallejo Narváez]]\n",
      "\t\t- [[Tomás Rocha-Rinza]]\n",
      "\t\t- [[Marcos Hernández]]\n",
      "\t\t- [[Elizabeth Gómez]]\n",
      "\t\t- [[Omar Jiménez-Sandoval]]\n",
      "\t\t- [[Cecilio Álvarez-Toledano]]\n",
      "\t- Journal:\n",
      "\t\t- [[Journal of Physics and Chemistry of Solids]] [[J. Phys. Chem. Solids]]\n",
      "\t- URL:\n",
      "\t\t- http://dx.doi.org/10.1016/j.jpcs.2020.109840\n",
      "- Notes:\n",
      "- Summary:\n",
      "- Concepts:\n",
      "- Keywords:\n",
      "\n"
     ]
    }
   ],
   "source": [
    "tsts = synthesize_md_string(js)"
   ]
  },
  {
   "cell_type": "code",
   "execution_count": 41,
   "metadata": {},
   "outputs": [
    {
     "data": {
      "text/plain": [
       "'- Synthesis and characterization of organotin(IV) semiconductors and their applications in optoelectronics\\n- Abstract:\\n\\t- \\n- Reference:\\n\\t- Authors:\\n\\t\\t- [[César R. Monzón-González]]\\n\\t\\t- [[María Elena Sánchez-Vergara]]\\n\\t\\t- [[Wilmer E. Vallejo Narváez]]\\n\\t\\t- [[Tomás Rocha-Rinza]]\\n\\t\\t- [[Marcos Hernández]]\\n\\t\\t- [[Elizabeth Gómez]]\\n\\t\\t- [[Omar Jiménez-Sandoval]]\\n\\t\\t- [[Cecilio Álvarez-Toledano]]\\n\\t- Journal:\\n\\t\\t- [[Journal of Physics and Chemistry of Solids]] [[J. Phys. Chem. Solids]]\\n\\t- URL:\\n\\t\\t- http://dx.doi.org/10.1016/j.jpcs.2020.109840\\n- Notes:\\n- Summary:\\n- Concepts:\\n- Keywords:\\n'"
      ]
     },
     "execution_count": 41,
     "metadata": {},
     "output_type": "execute_result"
    }
   ],
   "source": [
    "tsts[1]"
   ]
  },
  {
   "cell_type": "code",
   "execution_count": 43,
   "metadata": {},
   "outputs": [],
   "source": [
    "with open(f'./{tsts[0]}.md','w') as fout:\n",
    "    fout.write(tsts[1])"
   ]
  },
  {
   "cell_type": "code",
   "execution_count": 119,
   "metadata": {},
   "outputs": [],
   "source": [
    "with open('./pa.md', 'r') as handler:\n",
    "    ff = handler.read()"
   ]
  }
 ],
 "metadata": {
  "kernelspec": {
   "display_name": "Python 3.6.10 64-bit ('aiidadev')",
   "language": "python",
   "name": "python361064bitaiidadevfd117dca6bf04d97b8c58e61e9dfc34b"
  },
  "language_info": {
   "codemirror_mode": {
    "name": "ipython",
    "version": 3
   },
   "file_extension": ".py",
   "mimetype": "text/x-python",
   "name": "python",
   "nbconvert_exporter": "python",
   "pygments_lexer": "ipython3",
   "version": "3.6.10"
  }
 },
 "nbformat": 4,
 "nbformat_minor": 4
}
