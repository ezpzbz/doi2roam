{
 "cells": [
  {
   "cell_type": "code",
   "execution_count": 32,
   "metadata": {},
   "outputs": [],
   "source": [
    "import requests\n",
    "import yaml"
   ]
  },
  {
   "cell_type": "code",
   "execution_count": 95,
   "metadata": {},
   "outputs": [],
   "source": [
    "latexAccents = {\n",
    "  \"à\": \"\\\\`a\" , # Grave accent\n",
    "  \"è\": \"\\\\`e\" ,\n",
    "  \"ì\": \"\\\\`{\\\\i}\" ,\n",
    "  \"ò\": \"\\\\`o\" ,\n",
    "  \"ù\": \"\\\\`u\" ,\n",
    "  \"ỳ\": \"\\\\`y\" ,\n",
    "  \"À\": \"\\\\`A\" ,\n",
    "  \"È\": \"\\\\`E\" ,\n",
    "  \"Ì\": \"\\\\`{\\\\I}\" ,\n",
    "  \"Ò\": \"\\\\`O\" ,\n",
    "  \"Ù\": \"\\\\`U\" ,\n",
    "  \"Ỳ\": \"\\\\`Y\" ,\n",
    "  \"á\": \"\\\\'a\" , # Acute accent\n",
    "  \"ć\": \"\\\\'c\" ,\n",
    "  \"é\": \"\\\\'e\" ,\n",
    "  \"í\": \"\\\\'{\\\\i}\" ,\n",
    "  \"ó\": \"\\\\'o\" ,\n",
    "  \"ú\": \"\\\\'u\" ,\n",
    "  \"ý\": \"\\\\'y\" ,\n",
    "  \"Á\": \"\\\\'A\" ,\n",
    "  \"É\": \"\\\\'E\" ,\n",
    "  \"Í\": \"\\\\'{\\\\I}\" ,\n",
    "  \"Ó\": \"\\\\'O\" ,\n",
    "  \"Ú\": \"\\\\'U\" ,\n",
    "  \"Ý\": \"\\\\'Y\" ,\n",
    "  \"â\": \"\\\\^a\" , # Circumflex\n",
    "  \"ê\": \"\\\\^e\" ,\n",
    "  \"î\": \"\\\\^{\\\\i}\" ,\n",
    "  \"ô\": \"\\\\^o\" ,\n",
    "  \"û\": \"\\\\^u\" ,\n",
    "  \"ŷ\": \"\\\\^y\" ,\n",
    "  \"Â\": \"\\\\^A\" ,\n",
    "  \"Ê\": \"\\\\^E\" ,\n",
    "  \"Î\": \"\\\\^{\\\\I}\" ,\n",
    "  \"Ô\": \"\\\\^O\" ,\n",
    "  \"Û\": \"\\\\^U\" ,\n",
    "  \"Ŷ\": \"\\\\^Y\" ,\n",
    "  \"ä\": \"\\\\\\\"a\" ,        # Umlaut or dieresis\n",
    "  \"ë\": \"\\\\\\\"e\" ,\n",
    "  \"ï\": \"\\\\\\\"{\\\\i}\" ,\n",
    "  \"ö\": \"\\\\\\\"o\" ,\n",
    "  \"ü\": \"\\\\\\\"u\" ,\n",
    "  \"ÿ\": \"\\\\\\\"y\" ,\n",
    "  \"Ä\": \"\\\\\\\"A\" ,\n",
    "  \"Ë\": \"\\\\\\\"E\" ,\n",
    "  \"Ï\": \"\\\\\\\"{\\\\I}\" ,\n",
    "  \"Ö\": \"\\\\\\\"O\" ,\n",
    "  \"Ü\": \"\\\\\\\"U\" ,\n",
    "  \"Ÿ\": \"\\\\\\\"Y\" ,\n",
    "  \"ã\": \"\\\\~{a}\" ,       # Tilde\n",
    "  \"ñ\": \"\\\\~{n}\" ,\n",
    "  \"ă\": \"\\\\u{a}\" ,       # Breve\n",
    "  \"ĕ\": \"\\\\u{e}\" ,\n",
    "  \"ŏ\": \"\\\\u{o}\" ,\n",
    "  \"š\": \"\\\\v{s}\" ,       # Caron\n",
    "  \"č\": \"\\\\v{c}\" ,\n",
    "  \"ž\": \"\\\\v{z}\" ,\n",
    "  \"ç\": \"\\\\c{c}\" ,       # Cedilla\n",
    "  \"Ç\": \"\\\\c{C}\" ,\n",
    "  \"œ\": \"{\\\\oe}\" ,       # Ligatures\n",
    "  \"Œ\": \"{\\\\OE}\" ,\n",
    "  \"æ\": \"{\\\\ae}\" ,\n",
    "  \"Æ\": \"{\\\\AE}\" ,\n",
    "  \"å\": \"{\\\\aa}\" ,\n",
    "  \"Å\": \"{\\\\AA}\" ,\n",
    "  \"–\": \"--\" ,   # Dashes\n",
    "  \"—\": \"---\" ,\n",
    "  \"−\": \"--\" ,\n",
    "  \"ø\": \"{\\\\o}\" ,        # Misc latin-1 letters\n",
    "\"Ø\": \"{\\\\O}\" ,\n",
    "  \"ß\": \"{\\\\ss}\" ,\n",
    "  \"¡\": \"{!`}\" ,\n",
    "  \"¿\": \"{?`}\" ,\n",
    "  \"\\\\\": \"\\\\\\\\\" ,        # Characters that should be quoted\n",
    "  \"~\": \"\\\\~\" ,\n",
    "  \"&\": \"\\\\&\" ,\n",
    "  \"$\": \"\\\\$\" ,\n",
    "  \"{\": \"\\\\{\" ,\n",
    "  \"}\": \"\\\\}\" ,\n",
    "  \"%\": \"\\\\%\" ,\n",
    "  \"#\": \"\\\\#\" ,\n",
    "  \"_\": \"\\\\_\" ,\n",
    "  \"≥\": \"$\\\\ge$\" ,       # Math operators\n",
    "  \"≤\": \"$\\\\le$\" ,\n",
    "  \"≠\": \"$\\\\neq$\" ,\n",
    "  \"©\": \"\\copyright\" , # Misc\n",
    "  \"ı\": \"{\\\\i}\" ,\n",
    "  \"α\": \"$\\\\alpha$\" ,\n",
    "  \"β\": \"$\\\\beta$\" ,\n",
    "  \"γ\": \"$\\\\gamma$\" ,\n",
    "  \"δ\": \"$\\\\delta$\" ,\n",
    "  \"ε\": \"$\\\\epsilon$\" ,\n",
    "  \"η\": \"$\\\\eta$\" ,\n",
    "  \"θ\": \"$\\\\theta$\" ,\n",
    "  \"λ\": \"$\\\\lambda$\" ,\n",
    "  \"µ\": \"$\\\\mu$\" ,\n",
    "  \"ν\": \"$\\\\nu$\" ,\n",
    "  \"π\": \"$\\\\pi$\" ,\n",
    "  \"σ\": \"$\\\\sigma$\" ,\n",
    "  \"τ\": \"$\\\\tau$\" ,\n",
    "  \"φ\": \"$\\\\phi$\" ,\n",
    "  \"χ\": \"$\\\\chi$\" ,\n",
    "  \"ψ\": \"$\\\\psi$\" ,\n",
    "  \"ω\": \"$\\\\omega$\" ,\n",
    "  \"°\": \"$\\\\deg$\" ,\n",
    "  \"‘\": \"`\" ,    # Quotes\n",
    "  \"’\": \"'\" ,\n",
    "  \"′\": \"$^\\\\prime$\" ,\n",
    "  \"“\": \"``\" ,\n",
    "  \"”\": \"''\" ,\n",
    "  \"‚\": \",\" ,\n",
    "  \"„\": \",,\" ,\n",
    "  \"\\xa0\": \" \" ,     # Unprintable characters\n",
    "}\n",
    "\n",
    "def replaceLatexAccents(str):\n",
    "    import unicodedata\n",
    "    s = unicodedata.normalize('NFC', str)\n",
    "    return \"\".join([ latexAccents[c] if c in latexAccents else c for c in s ])\n"
   ]
  },
  {
   "cell_type": "code",
   "execution_count": 61,
   "metadata": {},
   "outputs": [],
   "source": [
    "# doi = '10.1021/acsami.8b15684'\n",
    "# doi = '10.1021/acsami.8b04600'\n",
    "doi = '10.1016/j.jpcs.2020.109840'"
   ]
  },
  {
   "cell_type": "code",
   "execution_count": 3,
   "metadata": {},
   "outputs": [],
   "source": [
    "bare_url = \"http://api.crossref.org/\"\n",
    "\n",
    "\n",
    "def get_bib(doi):\n",
    "    \"\"\"\n",
    "    Parameters\n",
    "    ----------\n",
    "        doi: str\n",
    "    Returns\n",
    "    -------\n",
    "        found: bool\n",
    "        bib: str\n",
    "    \"\"\"\n",
    "    url = \"{}works/{}/transform/application/x-bibtex\"\n",
    "    url = url.format(bare_url, doi)\n",
    "    r = requests.get(url)\n",
    "    found = False if r.status_code != 200 else True\n",
    "    bib = r.content\n",
    "    bib = str(bib, \"utf-8\")\n",
    "\n",
    "    return found, bib"
   ]
  },
  {
   "cell_type": "code",
   "execution_count": 51,
   "metadata": {},
   "outputs": [],
   "source": [
    "found, bib = get_bib(doi)"
   ]
  },
  {
   "cell_type": "code",
   "execution_count": 52,
   "metadata": {},
   "outputs": [
    {
     "name": "stdout",
     "output_type": "stream",
     "text": [
      "@article{Altintas_2018,\n",
      "\tdoi = {10.1021/acsami.8b04600},\n",
      "\turl = {https://doi.org/10.1021%2Facsami.8b04600},\n",
      "\tyear = 2018,\n",
      "\tmonth = {may},\n",
      "\tpublisher = {American Chemical Society ({ACS})},\n",
      "\tvolume = {10},\n",
      "\tnumber = {20},\n",
      "\tpages = {17257--17268},\n",
      "\tauthor = {Cigdem Altintas and Gokay Avci and Hilal Daglar and Ayda Nemati Vesali Azar and Sadiye Velioglu and Ilknur Erucar and Seda Keskin},\n",
      "\ttitle = {Database for {CO}2 Separation Performances of {MOFs} Based on Computational Materials Screening},\n",
      "\tjournal = {{ACS} Applied Materials {\\&} Interfaces}\n",
      "}\n"
     ]
    }
   ],
   "source": [
    "print(bib)"
   ]
  },
  {
   "cell_type": "code",
   "execution_count": 64,
   "metadata": {},
   "outputs": [],
   "source": [
    "def get_json(doi):\n",
    "    \"\"\"\n",
    "    Parameters\n",
    "    ----------\n",
    "        doi: str\n",
    "    Returns\n",
    "    -------\n",
    "        found: bool\n",
    "        item: dict\n",
    "            Response from crossref\n",
    "    \"\"\"\n",
    "\n",
    "    url = \"{}works/{}\"\n",
    "    url = url.format(bare_url, doi)\n",
    "    r = requests.get(url)\n",
    "    found = False if r.status_code != 200 else True\n",
    "    item = r.json()\n",
    "\n",
    "    return found, item\n"
   ]
  },
  {
   "cell_type": "code",
   "execution_count": 65,
   "metadata": {},
   "outputs": [],
   "source": [
    "found, js = get_json(doi)"
   ]
  },
  {
   "cell_type": "code",
   "execution_count": 53,
   "metadata": {},
   "outputs": [],
   "source": [
    "found, xml = get_xml(doi)"
   ]
  },
  {
   "cell_type": "code",
   "execution_count": 54,
   "metadata": {},
   "outputs": [
    {
     "data": {
      "text/plain": [
       "b'<?xml version=\"1.0\" encoding=\"UTF-8\"?>\\n<crossref_result xmlns=\"http://www.crossref.org/qrschema/3.0\" version=\"3.0\" xmlns:xsi=\"http://www.w3.org/2001/XMLSchema-instance\" xsi:schemaLocation=\"http://www.crossref.org/qrschema/3.0 http://www.crossref.org/schemas/crossref_query_output3.0.xsd\">\\r\\n  <query_result>\\r\\n    <head>\\r\\n      <doi_batch_id>none</doi_batch_id>\\r\\n    </head>\\r\\n    <body>\\r\\n      <query status=\"resolved\">\\r\\n        <doi type=\"journal_article\">10.1021/acsami.8b04600</doi>\\r\\n        <crm-item name=\"publisher-name\" type=\"string\">American Chemical Society (ACS)</crm-item>\\r\\n        <crm-item name=\"prefix-name\" type=\"string\">American Chemical Society</crm-item>\\r\\n        <crm-item name=\"member-id\" type=\"number\">316</crm-item>\\r\\n        <crm-item name=\"citation-id\" type=\"number\">98250775</crm-item>\\r\\n        <crm-item name=\"journal-id\" type=\"number\">79960</crm-item>\\r\\n        <crm-item name=\"deposit-timestamp\" type=\"number\">2018052300091000769</crm-item>\\r\\n        <crm-item name=\"owner-prefix\" type=\"string\">10.1021</crm-item>\\r\\n        <crm-item name=\"last-update\" type=\"date\">2020-04-08T13:25:17Z</crm-item>\\r\\n        <crm-item name=\"created\" type=\"date\">2018-05-03T21:47:56Z</crm-item>\\r\\n        <crm-item name=\"citedby-count\" type=\"number\">65</crm-item>\\r\\n        <doi_record>\\r\\n          <crossref xmlns=\"http://www.crossref.org/xschema/1.1\" xsi:schemaLocation=\"http://www.crossref.org/xschema/1.1 http://doi.crossref.org/schemas/unixref1.1.xsd\">\\r\\n            <journal>\\r\\n              <journal_metadata language=\"en\">\\r\\n                <full_title>ACS Applied Materials &amp; Interfaces</full_title>\\r\\n                <abbrev_title>ACS Appl. Mater. Interfaces</abbrev_title>\\r\\n                <issn media_type=\"print\">1944-8244</issn>\\r\\n                <issn media_type=\"electronic\">1944-8252</issn>\\r\\n              </journal_metadata>\\r\\n              <journal_issue>\\r\\n                <publication_date media_type=\"online\">\\r\\n                  <month>05</month>\\r\\n                  <day>09</day>\\r\\n                  <year>2018</year>\\r\\n                </publication_date>\\r\\n                <publication_date media_type=\"print\">\\r\\n                  <month>05</month>\\r\\n                  <day>23</day>\\r\\n                  <year>2018</year>\\r\\n                </publication_date>\\r\\n                <journal_volume>\\r\\n                  <volume>10</volume>\\r\\n                </journal_volume>\\r\\n                <issue>20</issue>\\r\\n              </journal_issue>\\r\\n              <journal_article publication_type=\"full_text\">\\r\\n                <titles>\\r\\n                  <title>\\r\\n                    Database for CO\\r\\n                    <sub>2</sub>\\r\\n                    Separation Performances of MOFs Based on Computational Materials Screening\\r\\n                  </title>\\r\\n                </titles>\\r\\n                <contributors>\\r\\n                  <person_name sequence=\"first\" contributor_role=\"author\">\\r\\n                    <given_name>Cigdem</given_name>\\r\\n                    <surname>Altintas</surname>\\r\\n                    <affiliation>Department of Chemical and Biological Engineering, Ko\\xc3\\xa7 University, Rumelifeneri Yolu, Sariyer, 34450 Istanbul, Turkey</affiliation>\\r\\n                  </person_name>\\r\\n                  <person_name sequence=\"additional\" contributor_role=\"author\">\\r\\n                    <given_name>Gokay</given_name>\\r\\n                    <surname>Avci</surname>\\r\\n                    <affiliation>Department of Chemical and Biological Engineering, Ko\\xc3\\xa7 University, Rumelifeneri Yolu, Sariyer, 34450 Istanbul, Turkey</affiliation>\\r\\n                  </person_name>\\r\\n                  <person_name sequence=\"additional\" contributor_role=\"author\">\\r\\n                    <given_name>Hilal</given_name>\\r\\n                    <surname>Daglar</surname>\\r\\n                    <affiliation>Department of Chemical and Biological Engineering, Ko\\xc3\\xa7 University, Rumelifeneri Yolu, Sariyer, 34450 Istanbul, Turkey</affiliation>\\r\\n                  </person_name>\\r\\n                  <person_name sequence=\"additional\" contributor_role=\"author\">\\r\\n                    <given_name>Ayda</given_name>\\r\\n                    <surname>Nemati Vesali Azar</surname>\\r\\n                    <affiliation>Department of Chemical and Biological Engineering, Ko\\xc3\\xa7 University, Rumelifeneri Yolu, Sariyer, 34450 Istanbul, Turkey</affiliation>\\r\\n                  </person_name>\\r\\n                  <person_name sequence=\"additional\" contributor_role=\"author\">\\r\\n                    <given_name>Sadiye</given_name>\\r\\n                    <surname>Velioglu</surname>\\r\\n                    <affiliation>Department of Chemical and Biological Engineering, Ko\\xc3\\xa7 University, Rumelifeneri Yolu, Sariyer, 34450 Istanbul, Turkey</affiliation>\\r\\n                  </person_name>\\r\\n                  <person_name sequence=\"additional\" contributor_role=\"author\">\\r\\n                    <given_name>Ilknur</given_name>\\r\\n                    <surname>Erucar</surname>\\r\\n                    <affiliation>Department of Natural and Mathematical Sciences, Faculty of Engineering, Ozyegin University, \\xc3\\x87ekmek\\xc3\\xb6y, 34794 Istanbul, Turkey</affiliation>\\r\\n                    <ORCID authenticated=\"true\">http://orcid.org/0000-0002-6059-6067</ORCID>\\r\\n                  </person_name>\\r\\n                  <person_name sequence=\"additional\" contributor_role=\"author\">\\r\\n                    <given_name>Seda</given_name>\\r\\n                    <surname>Keskin</surname>\\r\\n                    <affiliation>Department of Chemical and Biological Engineering, Ko\\xc3\\xa7 University, Rumelifeneri Yolu, Sariyer, 34450 Istanbul, Turkey</affiliation>\\r\\n                    <ORCID authenticated=\"true\">http://orcid.org/0000-0001-5968-0336</ORCID>\\r\\n                  </person_name>\\r\\n                </contributors>\\r\\n                <publication_date media_type=\"online\">\\r\\n                  <month>05</month>\\r\\n                  <day>03</day>\\r\\n                  <year>2018</year>\\r\\n                </publication_date>\\r\\n                <publication_date media_type=\"print\">\\r\\n                  <month>05</month>\\r\\n                  <day>23</day>\\r\\n                  <year>2018</year>\\r\\n                </publication_date>\\r\\n                <pages>\\r\\n                  <first_page>17257</first_page>\\r\\n                  <last_page>17268</last_page>\\r\\n                </pages>\\r\\n                <publisher_item>\\r\\n                  <identifier id_type=\"doi\">10.1021/acsami.8b04600</identifier>\\r\\n                </publisher_item>\\r\\n                <ns3:program xmlns:ns3=\"http://www.crossref.org/fundref.xsd\" name=\"fundref\">\\r\\n                  <ns3:assertion name=\"fundgroup\">\\r\\n                    <ns3:assertion name=\"funder_name\">\\r\\n                      H2020 European Research Council\\r\\n                      <ns3:assertion name=\"funder_identifier\">http://dx.doi.org/10.13039/100010663</ns3:assertion>\\r\\n                    </ns3:assertion>\\r\\n                    <ns3:assertion name=\"award_number\">756489</ns3:assertion>\\r\\n                  </ns3:assertion>\\r\\n                </ns3:program>\\r\\n                <ns2:program xmlns:ns2=\"http://www.crossref.org/AccessIndicators.xsd\" name=\"AccessIndicators\">\\r\\n                  <ns2:license_ref start_date=\"2018-05-14-04:00\" applies_to=\"vor\">http://pubs.acs.org/page/policy/authorchoice_termsofuse.html</ns2:license_ref>\\r\\n                </ns2:program>\\r\\n                <doi_data>\\r\\n                  <doi>10.1021/acsami.8b04600</doi>\\r\\n                  <resource>https://pubs.acs.org/doi/10.1021/acsami.8b04600</resource>\\r\\n                  <collection property=\"crawler-based\">\\r\\n                    <item crawler=\"iParadigms\">\\r\\n                      <resource>https://pubs.acs.org/doi/pdf/10.1021/acsami.8b04600</resource>\\r\\n                    </item>\\r\\n                  </collection>\\r\\n                  <collection property=\"unspecified\">\\r\\n                    <item>\\r\\n                      <resource content_version=\"vor\" mime_type=\"application/pdf\">http://pubs.acs.org/doi/pdf/10.1021/acsami.8b04600</resource>\\r\\n                    </item>\\r\\n                  </collection>\\r\\n                </doi_data>\\r\\n                <citation_list>\\r\\n                  <citation key=\"ref1/cit1\">\\r\\n                    <doi>10.1126/science.1230444</doi>\\r\\n                  </citation>\\r\\n                  <citation key=\"ref2/cit2\">\\r\\n                    <doi>10.1016/j.micromeso.2012.03.012</doi>\\r\\n                  </citation>\\r\\n                  <citation key=\"ref3/cit3\">\\r\\n                    <doi>10.1039/b807080f</doi>\\r\\n                  </citation>\\r\\n                  <citation key=\"ref4/cit4\">\\r\\n                    <doi>10.1039/C7TB01764B</doi>\\r\\n                  </citation>\\r\\n                  <citation key=\"ref5/cit5\">\\r\\n                    <doi>10.1002/cssc.201000114</doi>\\r\\n                  </citation>\\r\\n                  <citation key=\"ref6/cit6\">\\r\\n                    <doi>10.1016/j.ccr.2011.02.012</doi>\\r\\n                  </citation>\\r\\n                  <citation key=\"ref7/cit7\">\\r\\n                    <doi>10.1002/anie.201101891</doi>\\r\\n                  </citation>\\r\\n                  <citation key=\"ref8/cit8\">\\r\\n                    <doi>10.1002/anie.201000431</doi>\\r\\n                  </citation>\\r\\n                  <citation key=\"ref9/cit9\">\\r\\n                    <doi>10.1016/j.cej.2016.03.124</doi>\\r\\n                  </citation>\\r\\n                  <citation key=\"ref10/cit10\">\\r\\n                    <doi>10.1002/cssc.201000114</doi>\\r\\n                  </citation>\\r\\n                  <citation key=\"ref11/cit11\">\\r\\n                    <doi>10.1016/j.ccr.2011.02.012</doi>\\r\\n                  </citation>\\r\\n                  <citation key=\"ref12/cit12\">\\r\\n                    <doi>10.1039/C4TA06829G</doi>\\r\\n                  </citation>\\r\\n                  <citation key=\"ref13/cit13\">\\r\\n                    <doi>10.1016/j.apenergy.2015.10.011</doi>\\r\\n                  </citation>\\r\\n                  <citation key=\"ref14/cit14\">\\r\\n                    <doi>10.1021/acs.iecr.6b02585</doi>\\r\\n                  </citation>\\r\\n                  <citation key=\"ref15/cit15\">\\r\\n                    <doi>10.1039/C4CS00070F</doi>\\r\\n                  </citation>\\r\\n                  <citation key=\"ref16/cit16\">\\r\\n                    <doi>10.3389/fmats.2018.00004</doi>\\r\\n                  </citation>\\r\\n                  <citation key=\"ref17/cit17\">\\r\\n                    <doi>10.1021/la301915s</doi>\\r\\n                  </citation>\\r\\n                  <citation key=\"ref18/cit18\">\\r\\n                    <doi>10.1021/ja2108239</doi>\\r\\n                  </citation>\\r\\n                  <citation key=\"ref19/cit19\">\\r\\n                    <doi>10.1039/c2ee23201d</doi>\\r\\n                  </citation>\\r\\n                  <citation key=\"ref20/cit20\">\\r\\n                    <doi>10.1021/jz501331m</doi>\\r\\n                  </citation>\\r\\n                  <citation key=\"ref21/cit21\">\\r\\n                    <doi>10.1039/C5TA08984K</doi>\\r\\n                  </citation>\\r\\n                  <citation key=\"ref22/cit22\">\\r\\n                    <doi>10.1021/cm502594j</doi>\\r\\n                  </citation>\\r\\n                  <citation key=\"ref23/cit23\">\\r\\n                    <doi>10.1021/acs.chemmater.7b00441</doi>\\r\\n                  </citation>\\r\\n                  <citation key=\"ref24/cit24\">\\r\\n                    <doi>10.1107/S0108768102003890</doi>\\r\\n                  </citation>\\r\\n                  <citation key=\"ref25/cit25\">\\r\\n                    <doi>10.1021/acsami.7b18037</doi>\\r\\n                  </citation>\\r\\n                  <citation key=\"ref26/cit26\">\\r\\n                    <doi>10.1039/C8TA01547C</doi>\\r\\n                  </citation>\\r\\n                  <citation key=\"ref27/cit27\">\\r\\n                    <doi>10.1039/C7RA07363A</doi>\\r\\n                  </citation>\\r\\n                  <citation key=\"ref28/cit28\">\\r\\n                    <doi>10.1016/j.micromeso.2011.08.020</doi>\\r\\n                  </citation>\\r\\n                  <citation key=\"ref29/cit29\">\\r\\n                    <volume_title>Understanding Molecular Simulation: From Algorithms to Applications</volume_title>\\r\\n                    <author>Frenkel D.</author>\\r\\n                    <cYear>2002</cYear>\\r\\n                    <edition_number>2</edition_number>\\r\\n                  </citation>\\r\\n                  <citation key=\"ref30/cit30\">\\r\\n                    <doi>10.1080/08927022.2015.1010082</doi>\\r\\n                  </citation>\\r\\n                  <citation key=\"ref31/cit31\">\\r\\n                    <doi>10.1002/aic.14687</doi>\\r\\n                  </citation>\\r\\n                  <citation key=\"ref32/cit32\">\\r\\n                    <doi>10.1002/anie.201101891</doi>\\r\\n                  </citation>\\r\\n                  <citation key=\"ref33/cit33\">\\r\\n                    <doi>10.1016/j.cej.2010.10.035</doi>\\r\\n                  </citation>\\r\\n                  <citation key=\"ref34/cit34\">\\r\\n                    <doi>10.1002/andp.19213690304</doi>\\r\\n                  </citation>\\r\\n                  <citation key=\"ref35/cit35\">\\r\\n                    <doi>10.1002/aic.690470719</doi>\\r\\n                  </citation>\\r\\n                  <citation key=\"ref36/cit36\">\\r\\n                    <doi>10.1021/jp002866x</doi>\\r\\n                  </citation>\\r\\n                  <citation key=\"ref37/cit37\">\\r\\n                    <doi>10.1021/jp972543+</doi>\\r\\n                  </citation>\\r\\n                  <citation key=\"ref38/cit38\">\\r\\n                    <doi>10.1021/ja00051a040</doi>\\r\\n                  </citation>\\r\\n                  <citation key=\"ref39/cit39\">\\r\\n                    <doi>10.1016/j.ces.2014.10.034</doi>\\r\\n                  </citation>\\r\\n                  <citation key=\"ref40/cit40\">\\r\\n                    <doi>10.1039/C4CE01711K</doi>\\r\\n                  </citation>\\r\\n                  <citation key=\"ref41/cit41\">\\r\\n                    <doi>10.1016/j.memsci.2016.04.070</doi>\\r\\n                  </citation>\\r\\n                  <citation key=\"ref42/cit42\">\\r\\n                    <doi>10.1002/aic.690110125</doi>\\r\\n                  </citation>\\r\\n                  <citation key=\"ref43/cit43\">\\r\\n                    <doi>10.1021/cm902899t</doi>\\r\\n                  </citation>\\r\\n                  <citation key=\"ref44/cit44\">\\r\\n                    <doi>10.1016/j.seppur.2014.11.040</doi>\\r\\n                  </citation>\\r\\n                  <citation key=\"ref45/cit45\">\\r\\n                    <doi>10.1016/j.fuel.2012.06.016</doi>\\r\\n                  </citation>\\r\\n                  <citation key=\"ref46/cit46\">\\r\\n                    <doi>10.1021/la4027128</doi>\\r\\n                  </citation>\\r\\n                  <citation key=\"ref47/cit47\">\\r\\n                    <doi>10.1016/j.micromeso.2015.07.013</doi>\\r\\n                  </citation>\\r\\n                  <citation key=\"ref48/cit48\">\\r\\n                    <doi>10.1016/j.micromeso.2008.11.007</doi>\\r\\n                  </citation>\\r\\n                  <citation key=\"ref49/cit49\">\\r\\n                    <doi>10.1038/srep03312</doi>\\r\\n                  </citation>\\r\\n                  <citation key=\"ref50/cit50\">\\r\\n                    <doi>10.1021/cr2003272</doi>\\r\\n                  </citation>\\r\\n                  <citation key=\"ref51/cit51\">\\r\\n                    <doi>10.1016/j.seppur.2017.11.056</doi>\\r\\n                  </citation>\\r\\n                  <citation key=\"ref52/cit52\">\\r\\n                    <doi>10.1007/s10450-007-9039-z</doi>\\r\\n                  </citation>\\r\\n                  <citation key=\"ref53/cit53\">\\r\\n                    <doi>10.1021/la302223m</doi>\\r\\n                  </citation>\\r\\n                  <citation key=\"ref54/cit54\">\\r\\n                    <doi>10.1039/c2ee23201d</doi>\\r\\n                  </citation>\\r\\n                  <citation key=\"ref55/cit55\">\\r\\n                    <doi>10.1016/j.jmgm.2013.05.007</doi>\\r\\n                  </citation>\\r\\n                  <citation key=\"ref56/cit56\">\\r\\n                    <doi>10.1021/ci200386x</doi>\\r\\n                  </citation>\\r\\n                  <citation key=\"ref57/cit57\">\\r\\n                    <doi>10.1002/slct.201701934</doi>\\r\\n                  </citation>\\r\\n                  <citation key=\"ref58/cit58\">\\r\\n                    <doi>10.1021/ct100125x</doi>\\r\\n                  </citation>\\r\\n                  <citation key=\"ref59/cit59\">\\r\\n                    <doi>10.1021/cr200217c</doi>\\r\\n                  </citation>\\r\\n                  <citation key=\"ref60/cit60\">\\r\\n                    <doi>10.1016/j.progsurf.2013.11.001</doi>\\r\\n                  </citation>\\r\\n                  <citation key=\"ref61/cit61\">\\r\\n                    <doi>10.1016/S1003-9953(09)60015-3</doi>\\r\\n                  </citation>\\r\\n                  <citation key=\"ref62/cit62\">\\r\\n                    <doi>10.1039/c1cp20282k</doi>\\r\\n                  </citation>\\r\\n                  <citation key=\"ref63/cit63\">\\r\\n                    <doi>10.1021/je0498917</doi>\\r\\n                  </citation>\\r\\n                  <citation key=\"ref64/cit64\">\\r\\n                    <doi>10.1080/01496395.2017.1345942</doi>\\r\\n                  </citation>\\r\\n                  <citation key=\"ref65/cit65\">\\r\\n                    <doi>10.1021/es9032309</doi>\\r\\n                  </citation>\\r\\n                </citation_list>\\r\\n                <component_list>\\r\\n                  <component parent_relation=\"isPartOf\">\\r\\n                    <titles>\\r\\n                      <title>Database for CO2 Separation Performances of MOFs Based on Computational Materials Screening</title>\\r\\n                    </titles>\\r\\n                    <description>Supplemental Information for 10.1021/acsami.8b04600</description>\\r\\n                    <format mime_type=\"text/xml\" />\\r\\n                    <doi_data>\\r\\n                      <doi>10.1021/acsami.8b04600.s001</doi>\\r\\n                      <resource>https://pubs.acs.org/doi/suppl/10.1021/acsami.8b04600/suppl_file/am8b04600_si_001.pdf</resource>\\r\\n                    </doi_data>\\r\\n                  </component>\\r\\n                  <component parent_relation=\"isPartOf\">\\r\\n                    <titles>\\r\\n                      <title>Database for CO2 Separation Performances of MOFs Based on Computational Materials Screening</title>\\r\\n                    </titles>\\r\\n                    <description>Supplemental Information for 10.1021/acsami.8b04600</description>\\r\\n                    <format mime_type=\"text/xml\" />\\r\\n                    <doi_data>\\r\\n                      <doi>10.1021/acsami.8b04600.s002</doi>\\r\\n                      <resource>https://pubs.acs.org/doi/suppl/10.1021/acsami.8b04600/suppl_file/am8b04600_si_002.xlsx</resource>\\r\\n                    </doi_data>\\r\\n                  </component>\\r\\n                </component_list>\\r\\n              </journal_article>\\r\\n            </journal>\\r\\n          </crossref>\\r\\n        </doi_record>\\r\\n      </query>\\r\\n    </body>\\r\\n  </query_result>\\r\\n</crossref_result>'"
      ]
     },
     "execution_count": 54,
     "metadata": {},
     "output_type": "execute_result"
    }
   ],
   "source": [
    "xml.content"
   ]
  },
  {
   "cell_type": "code",
   "execution_count": 31,
   "metadata": {},
   "outputs": [
    {
     "data": {
      "text/plain": [
       "['Journal of Physics and Chemistry of Solids']"
      ]
     },
     "execution_count": 31,
     "metadata": {},
     "output_type": "execute_result"
    }
   ],
   "source": [
    "js['message']['short-container-title']"
   ]
  },
  {
   "cell_type": "code",
   "execution_count": 56,
   "metadata": {},
   "outputs": [
    {
     "data": {
      "text/plain": [
       "dict_keys(['indexed', 'reference-count', 'publisher', 'issue', 'license', 'funder', 'content-domain', 'short-container-title', 'published-print', 'DOI', 'type', 'created', 'page', 'source', 'is-referenced-by-count', 'title', 'prefix', 'volume', 'author', 'member', 'published-online', 'reference', 'container-title', 'original-title', 'language', 'link', 'deposited', 'score', 'subtitle', 'short-title', 'issued', 'references-count', 'journal-issue', 'alternative-id', 'URL', 'relation', 'ISSN', 'issn-type', 'subject'])"
      ]
     },
     "execution_count": 56,
     "metadata": {},
     "output_type": "execute_result"
    }
   ],
   "source": [
    "js['message'].keys()"
   ]
  },
  {
   "cell_type": "code",
   "execution_count": 108,
   "metadata": {},
   "outputs": [],
   "source": [
    "res = {}\n"
   ]
  },
  {
   "cell_type": "code",
   "execution_count": 109,
   "metadata": {},
   "outputs": [],
   "source": [
    "res['References'] = {}\n",
    "res['References']['Authors'] = []"
   ]
  },
  {
   "cell_type": "code",
   "execution_count": 110,
   "metadata": {},
   "outputs": [],
   "source": [
    "res['Title'] = js['message']['title'][0]"
   ]
  },
  {
   "cell_type": "code",
   "execution_count": 111,
   "metadata": {},
   "outputs": [],
   "source": [
    "if 'abstract' in js['message'].keys():\n",
    "    res['Title'] = js['message']['title'][0]"
   ]
  },
  {
   "cell_type": "code",
   "execution_count": 112,
   "metadata": {},
   "outputs": [
    {
     "data": {
      "text/plain": [
       "{'References': {'Authors': ['[[César R. Monzón-González]]',\n",
       "   '[[María Elena Sánchez-Vergara]]',\n",
       "   '[[Wilmer E. Vallejo Narváez]]',\n",
       "   '[[Tomás Rocha-Rinza]]',\n",
       "   '[[Marcos Hernández]]',\n",
       "   '[[Elizabeth Gómez]]',\n",
       "   '[[Omar Jiménez-Sandoval]]',\n",
       "   '[[Cecilio Álvarez-Toledano]]']},\n",
       " 'Title': 'Synthesis and characterization of organotin(IV) semiconductors and their applications in optoelectronics'}"
      ]
     },
     "execution_count": 112,
     "metadata": {},
     "output_type": "execute_result"
    }
   ],
   "source": [
    "author_list = js['message']['author']\n",
    "a_list = []\n",
    "for a in author_list:\n",
    "    given = a['given']\n",
    "    family = a['family']\n",
    "    item = f'[[{given} {family}]]'\n",
    "#     item = replaceLatexAccents(item)\n",
    "    res['References']['Authors'].append(item)\n",
    "#     print(item)\n",
    "#     a_list.append(item)\n",
    "res"
   ]
  },
  {
   "cell_type": "code",
   "execution_count": 79,
   "metadata": {},
   "outputs": [
    {
     "name": "stdout",
     "output_type": "stream",
     "text": [
      "[[Journal of Physics and Chemistry of Solids]]\n"
     ]
    }
   ],
   "source": [
    "journal = js['message']['container-title']\n",
    "journal_abbrev = js['message']['short-container-title']\n",
    "\n",
    "if journal == journal_abbrev:\n",
    "    print(f'[[{journal[0]}]]')\n",
    "else:\n",
    "    print(f'[[{journal[0]}]]' f'[[{journal_abbrev[0]}]]')"
   ]
  },
  {
   "cell_type": "code",
   "execution_count": 84,
   "metadata": {},
   "outputs": [
    {
     "name": "stdout",
     "output_type": "stream",
     "text": [
      "http://dx.doi.org/10.1016/j.jpcs.2020.109840\n"
     ]
    }
   ],
   "source": []
  },
  {
   "cell_type": "code",
   "execution_count": 116,
   "metadata": {},
   "outputs": [],
   "source": [
    "def get_bib_as_dict(json):\n",
    "    res = {}\n",
    "    \n",
    "    res['Title'] = json['message']['title'][0]\n",
    "    if 'abstract' in json['message'].keys():\n",
    "        res['Abstract'] = json['message']['abstract'][0]\n",
    "        \n",
    "    res['References'] = {}\n",
    "    res['References']['Authors'] = []\n",
    "    author_list = json['message']['author']\n",
    "    a_list = []\n",
    "    for a in author_list:\n",
    "        given = a['given']\n",
    "        family = a['family']\n",
    "        item = f'[[{given} {family}]]'\n",
    "#         item = replaceLatexAccents(item)\n",
    "        res['References']['Authors'].append(item.strip(\"'\"))\n",
    "    \n",
    "    journal = json['message']['container-title']\n",
    "    journal_abbrev = json['message']['short-container-title']\n",
    "\n",
    "    if journal == journal_abbrev:\n",
    "        res['Journal'] = f'[[{journal[0]}]]'\n",
    "    else:\n",
    "        res['Journal'] = f'[[{journal[0]}]]' f'[[{journal_abbrev[0]}]]'\n",
    "    \n",
    "    if 'url' in js['message'].keys():\n",
    "        res['References']['URL'] = json['message']['url']\n",
    "    elif 'URL' in js['message'].keys():\n",
    "        res['References']['URL'] = json['message']['URL']\n",
    "    \n",
    "    return res"
   ]
  },
  {
   "cell_type": "code",
   "execution_count": 157,
   "metadata": {},
   "outputs": [],
   "source": [
    "def get_title_str(json):\n",
    "    t = json['message']['title'][0]\n",
    "    title = f'- {t}\\n'\n",
    "    return title\n",
    "def get_authors_str(json):\n",
    "    t = json['message']['title'][0]\n",
    "    title = f'- {t}\\n'\n",
    "    al = '- Reference:\\n\\t- Authors:\\n'\n",
    "    author_list = json['message']['author']\n",
    "    a_list = []\n",
    "    for a in author_list:\n",
    "        given = a['given']\n",
    "        family = a['family']\n",
    "        item = f'[[{given} {family}]]'\n",
    "        al += '\\t\\t- '+item +'\\n'\n",
    "#         res['References']['Authors'].append(item.strip(\"'\"))\n",
    "    return title+al\n",
    "    "
   ]
  },
  {
   "cell_type": "code",
   "execution_count": 129,
   "metadata": {},
   "outputs": [
    {
     "data": {
      "text/plain": [
       "'- Synthesis and characterization of organotin(IV) semiconductors and their applications in optoelectronics\\n'"
      ]
     },
     "execution_count": 129,
     "metadata": {},
     "output_type": "execute_result"
    }
   ],
   "source": [
    "t = get_title_str(js)"
   ]
  },
  {
   "cell_type": "code",
   "execution_count": 158,
   "metadata": {},
   "outputs": [],
   "source": [
    "tsts = get_authors_str(js)"
   ]
  },
  {
   "cell_type": "code",
   "execution_count": 159,
   "metadata": {},
   "outputs": [
    {
     "data": {
      "text/plain": [
       "'- Synthesis and characterization of organotin(IV) semiconductors and their applications in optoelectronics\\n- Reference:\\n\\t- Authors:\\n\\t\\t- [[César R. Monzón-González]]\\n\\t\\t- [[María Elena Sánchez-Vergara]]\\n\\t\\t- [[Wilmer E. Vallejo Narváez]]\\n\\t\\t- [[Tomás Rocha-Rinza]]\\n\\t\\t- [[Marcos Hernández]]\\n\\t\\t- [[Elizabeth Gómez]]\\n\\t\\t- [[Omar Jiménez-Sandoval]]\\n\\t\\t- [[Cecilio Álvarez-Toledano]]\\n'"
      ]
     },
     "execution_count": 159,
     "metadata": {},
     "output_type": "execute_result"
    }
   ],
   "source": [
    "tsts"
   ]
  },
  {
   "cell_type": "code",
   "execution_count": 160,
   "metadata": {},
   "outputs": [],
   "source": [
    "with open('./test4.md','w') as fout:\n",
    "    fout.write(tsts)"
   ]
  },
  {
   "cell_type": "code",
   "execution_count": 117,
   "metadata": {},
   "outputs": [],
   "source": [
    "dd = get_bib_as_dict(js)"
   ]
  },
  {
   "cell_type": "code",
   "execution_count": 118,
   "metadata": {},
   "outputs": [
    {
     "name": "stdout",
     "output_type": "stream",
     "text": [
      "Title: Synthesis and characterization of organotin(IV) semiconductors and their applications\n",
      "  in optoelectronics\n",
      "References:\n",
      "  Authors:\n",
      "  - '[[César R. Monzón-González]]'\n",
      "  - '[[María Elena Sánchez-Vergara]]'\n",
      "  - '[[Wilmer E. Vallejo Narváez]]'\n",
      "  - '[[Tomás Rocha-Rinza]]'\n",
      "  - '[[Marcos Hernández]]'\n",
      "  - '[[Elizabeth Gómez]]'\n",
      "  - '[[Omar Jiménez-Sandoval]]'\n",
      "  - '[[Cecilio Álvarez-Toledano]]'\n",
      "  URL: http://dx.doi.org/10.1016/j.jpcs.2020.109840\n",
      "Journal: '[[Journal of Physics and Chemistry of Solids]]'\n",
      "\n"
     ]
    }
   ],
   "source": [
    "print(yaml.dump(dd,sort_keys=False,allow_unicode=True))"
   ]
  },
  {
   "cell_type": "code",
   "execution_count": 119,
   "metadata": {},
   "outputs": [],
   "source": [
    "with open('./pa.md', 'r') as handler:\n",
    "    ff = handler.read()"
   ]
  },
  {
   "cell_type": "code",
   "execution_count": 120,
   "metadata": {},
   "outputs": [
    {
     "data": {
      "text/plain": [
       "'- TITLE\\n- Abstract:\\n    - \\n- Reference:\\n    - Authors:\\n        - \\n    - Journal:\\n    - url: https://doi.org/\\n- Notes:\\n- Summary:\\n- Concepts:\\n- Keywords:\\n'"
      ]
     },
     "execution_count": 120,
     "metadata": {},
     "output_type": "execute_result"
    }
   ],
   "source": [
    "ff"
   ]
  }
 ],
 "metadata": {
  "kernelspec": {
   "display_name": "Python 3.6.10 64-bit ('aiidadev')",
   "language": "python",
   "name": "python361064bitaiidadevfd117dca6bf04d97b8c58e61e9dfc34b"
  },
  "language_info": {
   "codemirror_mode": {
    "name": "ipython",
    "version": 3
   },
   "file_extension": ".py",
   "mimetype": "text/x-python",
   "name": "python",
   "nbconvert_exporter": "python",
   "pygments_lexer": "ipython3",
   "version": "3.6.10"
  }
 },
 "nbformat": 4,
 "nbformat_minor": 4
}
